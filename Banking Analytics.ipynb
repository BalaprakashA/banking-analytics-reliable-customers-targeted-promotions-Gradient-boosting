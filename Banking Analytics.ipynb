{
 "cells": [
  {
   "cell_type": "code",
   "execution_count": 265,
   "id": "b45f9770",
   "metadata": {},
   "outputs": [],
   "source": [
    "import pandas as pd\n",
    "from sklearn.model_selection import train_test_split\n",
    "from sklearn.linear_model import LogisticRegression\n",
    "from sklearn.neighbors import KNeighborsClassifier\n",
    "from sklearn.ensemble import RandomForestClassifier\n",
    "from sklearn.ensemble import GradientBoostingClassifier\n",
    "from sklearn.preprocessing import StandardScaler\n",
    "from keras.models import Sequential\n",
    "from keras.layers import Dense\n",
    "from keras.optimizers import Adam\n",
    "from sklearn.metrics import accuracy_score, roc_auc_score\n",
    "from sklearn.metrics import accuracy_score, classification_report, roc_auc_score\n",
    "import numpy as np"
   ]
  },
  {
   "cell_type": "code",
   "execution_count": 209,
   "id": "0a6931b9",
   "metadata": {},
   "outputs": [],
   "source": [
    "doc_path = 'D:/College Work/Predicitive Anal & Final Model DS 640/Finals/1.docx'\n",
    "doc = docx.Document(doc_path)\n",
    "\n"
   ]
  },
  {
   "cell_type": "code",
   "execution_count": 210,
   "id": "6ba57466",
   "metadata": {},
   "outputs": [],
   "source": [
    "data_rows = [paragraph.text.split('\\t') for paragraph in doc.paragraphs]\n"
   ]
  },
  {
   "cell_type": "code",
   "execution_count": 211,
   "id": "23e98fed",
   "metadata": {},
   "outputs": [],
   "source": [
    "column_names = data_rows[0]\n"
   ]
  },
  {
   "cell_type": "code",
   "execution_count": 212,
   "id": "c13f08eb",
   "metadata": {},
   "outputs": [],
   "source": [
    "data_rows = data_rows[1:]\n"
   ]
  },
  {
   "cell_type": "code",
   "execution_count": 213,
   "id": "1b1252fd",
   "metadata": {},
   "outputs": [],
   "source": [
    "data_df = pd.DataFrame(data_rows, columns=column_names)\n"
   ]
  },
  {
   "cell_type": "code",
   "execution_count": 214,
   "id": "346a0c32",
   "metadata": {},
   "outputs": [
    {
     "data": {
      "text/html": [
       "<div>\n",
       "<style scoped>\n",
       "    .dataframe tbody tr th:only-of-type {\n",
       "        vertical-align: middle;\n",
       "    }\n",
       "\n",
       "    .dataframe tbody tr th {\n",
       "        vertical-align: top;\n",
       "    }\n",
       "\n",
       "    .dataframe thead th {\n",
       "        text-align: right;\n",
       "    }\n",
       "</style>\n",
       "<table border=\"1\" class=\"dataframe\">\n",
       "  <thead>\n",
       "    <tr style=\"text-align: right;\">\n",
       "      <th></th>\n",
       "      <th>AGE</th>\n",
       "      <th>INCOME</th>\n",
       "      <th>MARITAL</th>\n",
       "      <th>MORTGAGE</th>\n",
       "      <th>LOANS</th>\n",
       "      <th>RISK</th>\n",
       "      <th>income2</th>\n",
       "      <th>age2</th>\n",
       "    </tr>\n",
       "  </thead>\n",
       "  <tbody>\n",
       "    <tr>\n",
       "      <th>0</th>\n",
       "      <td>40</td>\n",
       "      <td>28785</td>\n",
       "      <td>\"other\"\"\"\"\"</td>\n",
       "      <td>\"y\"\"\"\"\"</td>\n",
       "      <td>3</td>\n",
       "      <td>bad loss</td>\n",
       "      <td>36060.7</td>\n",
       "      <td>44</td>\n",
       "    </tr>\n",
       "    <tr>\n",
       "      <th>1</th>\n",
       "      <td>44</td>\n",
       "      <td>28617</td>\n",
       "      <td>\"other\"\"\"\"\"</td>\n",
       "      <td>\"n\"\"\"\"\"</td>\n",
       "      <td>2</td>\n",
       "      <td>bad loss</td>\n",
       "      <td>36009.34</td>\n",
       "      <td>41</td>\n",
       "    </tr>\n",
       "    <tr>\n",
       "      <th>2</th>\n",
       "      <td>44</td>\n",
       "      <td>28230</td>\n",
       "      <td>\"other\"\"\"\"\"</td>\n",
       "      <td>\"n\"\"\"\"\"</td>\n",
       "      <td>2</td>\n",
       "      <td>bad loss</td>\n",
       "      <td>35614.6</td>\n",
       "      <td>46</td>\n",
       "    </tr>\n",
       "    <tr>\n",
       "      <th>3</th>\n",
       "      <td>44</td>\n",
       "      <td>27909</td>\n",
       "      <td>\"other\"\"\"\"\"</td>\n",
       "      <td>\"y\"\"\"\"\"</td>\n",
       "      <td>2</td>\n",
       "      <td>bad loss</td>\n",
       "      <td>35287.18</td>\n",
       "      <td>42</td>\n",
       "    </tr>\n",
       "    <tr>\n",
       "      <th>4</th>\n",
       "      <td>45</td>\n",
       "      <td>27553</td>\n",
       "      <td>\"other\"\"\"\"\"</td>\n",
       "      <td>\"y\"\"\"\"\"</td>\n",
       "      <td>2</td>\n",
       "      <td>bad loss</td>\n",
       "      <td>34954.06</td>\n",
       "      <td>36</td>\n",
       "    </tr>\n",
       "    <tr>\n",
       "      <th>...</th>\n",
       "      <td>...</td>\n",
       "      <td>...</td>\n",
       "      <td>...</td>\n",
       "      <td>...</td>\n",
       "      <td>...</td>\n",
       "      <td>...</td>\n",
       "      <td>...</td>\n",
       "      <td>...</td>\n",
       "    </tr>\n",
       "    <tr>\n",
       "      <th>241</th>\n",
       "      <td>35</td>\n",
       "      <td>27706</td>\n",
       "      <td>\"single\"\"\"\"\"</td>\n",
       "      <td>\"y\"\"\"\"\"</td>\n",
       "      <td>0</td>\n",
       "      <td>good risk</td>\n",
       "      <td>34810.12</td>\n",
       "      <td>24</td>\n",
       "    </tr>\n",
       "    <tr>\n",
       "      <th>242</th>\n",
       "      <td>38</td>\n",
       "      <td>26539</td>\n",
       "      <td>\"single\"\"\"\"\"</td>\n",
       "      <td>\"y\"\"\"\"\"</td>\n",
       "      <td>0</td>\n",
       "      <td>good risk</td>\n",
       "      <td>33709.78</td>\n",
       "      <td>16</td>\n",
       "    </tr>\n",
       "    <tr>\n",
       "      <th>243</th>\n",
       "      <td>37</td>\n",
       "      <td>25771</td>\n",
       "      <td>\"single\"\"\"\"\"</td>\n",
       "      <td>\"y\"\"\"\"\"</td>\n",
       "      <td>0</td>\n",
       "      <td>good risk</td>\n",
       "      <td>32896.42</td>\n",
       "      <td>21</td>\n",
       "    </tr>\n",
       "    <tr>\n",
       "      <th>244</th>\n",
       "      <td>34</td>\n",
       "      <td>25276</td>\n",
       "      <td>\"single\"\"\"\"\"</td>\n",
       "      <td>\"y\"\"\"\"\"</td>\n",
       "      <td>0</td>\n",
       "      <td>good risk</td>\n",
       "      <td>32301.52</td>\n",
       "      <td>23</td>\n",
       "    </tr>\n",
       "    <tr>\n",
       "      <th>245</th>\n",
       "      <td>25</td>\n",
       "      <td>23944</td>\n",
       "      <td>\"single\"\"\"\"\"</td>\n",
       "      <td>\"y\"\"\"\"\"</td>\n",
       "      <td>1</td>\n",
       "      <td>good risk</td>\n",
       "      <td>42096</td>\n",
       "      <td>20</td>\n",
       "    </tr>\n",
       "  </tbody>\n",
       "</table>\n",
       "<p>246 rows × 8 columns</p>\n",
       "</div>"
      ],
      "text/plain": [
       "    AGE INCOME       MARITAL MORTGAGE LOANS       RISK   income2 age2\n",
       "0    40  28785   \"other\"\"\"\"\"  \"y\"\"\"\"\"     3   bad loss   36060.7   44\n",
       "1    44  28617   \"other\"\"\"\"\"  \"n\"\"\"\"\"     2   bad loss  36009.34   41\n",
       "2    44  28230   \"other\"\"\"\"\"  \"n\"\"\"\"\"     2   bad loss   35614.6   46\n",
       "3    44  27909   \"other\"\"\"\"\"  \"y\"\"\"\"\"     2   bad loss  35287.18   42\n",
       "4    45  27553   \"other\"\"\"\"\"  \"y\"\"\"\"\"     2   bad loss  34954.06   36\n",
       "..   ..    ...           ...      ...   ...        ...       ...  ...\n",
       "241  35  27706  \"single\"\"\"\"\"  \"y\"\"\"\"\"     0  good risk  34810.12   24\n",
       "242  38  26539  \"single\"\"\"\"\"  \"y\"\"\"\"\"     0  good risk  33709.78   16\n",
       "243  37  25771  \"single\"\"\"\"\"  \"y\"\"\"\"\"     0  good risk  32896.42   21\n",
       "244  34  25276  \"single\"\"\"\"\"  \"y\"\"\"\"\"     0  good risk  32301.52   23\n",
       "245  25  23944  \"single\"\"\"\"\"  \"y\"\"\"\"\"     1  good risk     42096   20\n",
       "\n",
       "[246 rows x 8 columns]"
      ]
     },
     "execution_count": 214,
     "metadata": {},
     "output_type": "execute_result"
    }
   ],
   "source": [
    "data_df"
   ]
  },
  {
   "cell_type": "code",
   "execution_count": 215,
   "id": "c6c58dd6",
   "metadata": {},
   "outputs": [
    {
     "name": "stdout",
     "output_type": "stream",
     "text": [
      "AGE         0\n",
      "INCOME      0\n",
      "MARITAL     0\n",
      "MORTGAGE    0\n",
      "LOANS       0\n",
      "RISK        0\n",
      "income2     0\n",
      "age2        0\n",
      "dtype: int64\n"
     ]
    }
   ],
   "source": [
    "print(data_df.isnull().sum())\n"
   ]
  },
  {
   "cell_type": "code",
   "execution_count": 216,
   "id": "886c915e",
   "metadata": {},
   "outputs": [],
   "source": [
    "numeric_df = numeric_df.apply(pd.to_numeric, errors='coerce')\n"
   ]
  },
  {
   "cell_type": "code",
   "execution_count": 217,
   "id": "2a218c64",
   "metadata": {},
   "outputs": [],
   "source": [
    "numeric_df.dropna(subset=numeric_cols, inplace=True)"
   ]
  },
  {
   "cell_type": "code",
   "execution_count": 218,
   "id": "f9bf3a1f",
   "metadata": {},
   "outputs": [
    {
     "data": {
      "text/html": [
       "<div>\n",
       "<style scoped>\n",
       "    .dataframe tbody tr th:only-of-type {\n",
       "        vertical-align: middle;\n",
       "    }\n",
       "\n",
       "    .dataframe tbody tr th {\n",
       "        vertical-align: top;\n",
       "    }\n",
       "\n",
       "    .dataframe thead th {\n",
       "        text-align: right;\n",
       "    }\n",
       "</style>\n",
       "<table border=\"1\" class=\"dataframe\">\n",
       "  <thead>\n",
       "    <tr style=\"text-align: right;\">\n",
       "      <th></th>\n",
       "      <th>AGE</th>\n",
       "      <th>INCOME</th>\n",
       "      <th>MARITAL</th>\n",
       "      <th>MORTGAGE</th>\n",
       "      <th>LOANS</th>\n",
       "      <th>RISK</th>\n",
       "      <th>income2</th>\n",
       "      <th>age2</th>\n",
       "    </tr>\n",
       "  </thead>\n",
       "  <tbody>\n",
       "    <tr>\n",
       "      <th>0</th>\n",
       "      <td>40</td>\n",
       "      <td>28785</td>\n",
       "      <td>\"other\"\"\"\"\"</td>\n",
       "      <td>\"y\"\"\"\"\"</td>\n",
       "      <td>3</td>\n",
       "      <td>bad loss</td>\n",
       "      <td>36060.7</td>\n",
       "      <td>44</td>\n",
       "    </tr>\n",
       "    <tr>\n",
       "      <th>1</th>\n",
       "      <td>44</td>\n",
       "      <td>28617</td>\n",
       "      <td>\"other\"\"\"\"\"</td>\n",
       "      <td>\"n\"\"\"\"\"</td>\n",
       "      <td>2</td>\n",
       "      <td>bad loss</td>\n",
       "      <td>36009.34</td>\n",
       "      <td>41</td>\n",
       "    </tr>\n",
       "    <tr>\n",
       "      <th>2</th>\n",
       "      <td>44</td>\n",
       "      <td>28230</td>\n",
       "      <td>\"other\"\"\"\"\"</td>\n",
       "      <td>\"n\"\"\"\"\"</td>\n",
       "      <td>2</td>\n",
       "      <td>bad loss</td>\n",
       "      <td>35614.6</td>\n",
       "      <td>46</td>\n",
       "    </tr>\n",
       "    <tr>\n",
       "      <th>3</th>\n",
       "      <td>44</td>\n",
       "      <td>27909</td>\n",
       "      <td>\"other\"\"\"\"\"</td>\n",
       "      <td>\"y\"\"\"\"\"</td>\n",
       "      <td>2</td>\n",
       "      <td>bad loss</td>\n",
       "      <td>35287.18</td>\n",
       "      <td>42</td>\n",
       "    </tr>\n",
       "    <tr>\n",
       "      <th>4</th>\n",
       "      <td>45</td>\n",
       "      <td>27553</td>\n",
       "      <td>\"other\"\"\"\"\"</td>\n",
       "      <td>\"y\"\"\"\"\"</td>\n",
       "      <td>2</td>\n",
       "      <td>bad loss</td>\n",
       "      <td>34954.06</td>\n",
       "      <td>36</td>\n",
       "    </tr>\n",
       "    <tr>\n",
       "      <th>...</th>\n",
       "      <td>...</td>\n",
       "      <td>...</td>\n",
       "      <td>...</td>\n",
       "      <td>...</td>\n",
       "      <td>...</td>\n",
       "      <td>...</td>\n",
       "      <td>...</td>\n",
       "      <td>...</td>\n",
       "    </tr>\n",
       "    <tr>\n",
       "      <th>241</th>\n",
       "      <td>35</td>\n",
       "      <td>27706</td>\n",
       "      <td>\"single\"\"\"\"\"</td>\n",
       "      <td>\"y\"\"\"\"\"</td>\n",
       "      <td>0</td>\n",
       "      <td>good risk</td>\n",
       "      <td>34810.12</td>\n",
       "      <td>24</td>\n",
       "    </tr>\n",
       "    <tr>\n",
       "      <th>242</th>\n",
       "      <td>38</td>\n",
       "      <td>26539</td>\n",
       "      <td>\"single\"\"\"\"\"</td>\n",
       "      <td>\"y\"\"\"\"\"</td>\n",
       "      <td>0</td>\n",
       "      <td>good risk</td>\n",
       "      <td>33709.78</td>\n",
       "      <td>16</td>\n",
       "    </tr>\n",
       "    <tr>\n",
       "      <th>243</th>\n",
       "      <td>37</td>\n",
       "      <td>25771</td>\n",
       "      <td>\"single\"\"\"\"\"</td>\n",
       "      <td>\"y\"\"\"\"\"</td>\n",
       "      <td>0</td>\n",
       "      <td>good risk</td>\n",
       "      <td>32896.42</td>\n",
       "      <td>21</td>\n",
       "    </tr>\n",
       "    <tr>\n",
       "      <th>244</th>\n",
       "      <td>34</td>\n",
       "      <td>25276</td>\n",
       "      <td>\"single\"\"\"\"\"</td>\n",
       "      <td>\"y\"\"\"\"\"</td>\n",
       "      <td>0</td>\n",
       "      <td>good risk</td>\n",
       "      <td>32301.52</td>\n",
       "      <td>23</td>\n",
       "    </tr>\n",
       "    <tr>\n",
       "      <th>245</th>\n",
       "      <td>25</td>\n",
       "      <td>23944</td>\n",
       "      <td>\"single\"\"\"\"\"</td>\n",
       "      <td>\"y\"\"\"\"\"</td>\n",
       "      <td>1</td>\n",
       "      <td>good risk</td>\n",
       "      <td>42096</td>\n",
       "      <td>20</td>\n",
       "    </tr>\n",
       "  </tbody>\n",
       "</table>\n",
       "<p>246 rows × 8 columns</p>\n",
       "</div>"
      ],
      "text/plain": [
       "    AGE INCOME       MARITAL MORTGAGE LOANS       RISK   income2 age2\n",
       "0    40  28785   \"other\"\"\"\"\"  \"y\"\"\"\"\"     3   bad loss   36060.7   44\n",
       "1    44  28617   \"other\"\"\"\"\"  \"n\"\"\"\"\"     2   bad loss  36009.34   41\n",
       "2    44  28230   \"other\"\"\"\"\"  \"n\"\"\"\"\"     2   bad loss   35614.6   46\n",
       "3    44  27909   \"other\"\"\"\"\"  \"y\"\"\"\"\"     2   bad loss  35287.18   42\n",
       "4    45  27553   \"other\"\"\"\"\"  \"y\"\"\"\"\"     2   bad loss  34954.06   36\n",
       "..   ..    ...           ...      ...   ...        ...       ...  ...\n",
       "241  35  27706  \"single\"\"\"\"\"  \"y\"\"\"\"\"     0  good risk  34810.12   24\n",
       "242  38  26539  \"single\"\"\"\"\"  \"y\"\"\"\"\"     0  good risk  33709.78   16\n",
       "243  37  25771  \"single\"\"\"\"\"  \"y\"\"\"\"\"     0  good risk  32896.42   21\n",
       "244  34  25276  \"single\"\"\"\"\"  \"y\"\"\"\"\"     0  good risk  32301.52   23\n",
       "245  25  23944  \"single\"\"\"\"\"  \"y\"\"\"\"\"     1  good risk     42096   20\n",
       "\n",
       "[246 rows x 8 columns]"
      ]
     },
     "execution_count": 218,
     "metadata": {},
     "output_type": "execute_result"
    }
   ],
   "source": [
    "data_df"
   ]
  },
  {
   "cell_type": "code",
   "execution_count": 219,
   "id": "87eceb8d",
   "metadata": {},
   "outputs": [],
   "source": [
    "data_df.drop('MORTGAGE', axis=1, inplace=True)\n",
    "data_df.drop('income2', axis=1, inplace=True)\n",
    "data_df.drop('age2', axis=1, inplace=True)\n",
    "data_df.drop('MARITAL', axis=1, inplace=True)\n"
   ]
  },
  {
   "cell_type": "code",
   "execution_count": 220,
   "id": "f217c84c",
   "metadata": {},
   "outputs": [
    {
     "data": {
      "text/plain": [
       "AGE       object\n",
       "INCOME    object\n",
       "LOANS     object\n",
       "RISK      object\n",
       "dtype: object"
      ]
     },
     "execution_count": 220,
     "metadata": {},
     "output_type": "execute_result"
    }
   ],
   "source": [
    "data_df.dtypes"
   ]
  },
  {
   "cell_type": "code",
   "execution_count": 221,
   "id": "968cf821",
   "metadata": {},
   "outputs": [],
   "source": [
    "data_df['RISK'] = data_df['RISK'].map({'good risk': True, 'bad loss': False})\n"
   ]
  },
  {
   "cell_type": "code",
   "execution_count": 222,
   "id": "7fb32ce3",
   "metadata": {},
   "outputs": [
    {
     "data": {
      "text/plain": [
       "0      False\n",
       "1      False\n",
       "2      False\n",
       "3      False\n",
       "4      False\n",
       "       ...  \n",
       "241     True\n",
       "242     True\n",
       "243     True\n",
       "244     True\n",
       "245     True\n",
       "Name: RISK, Length: 246, dtype: bool"
      ]
     },
     "execution_count": 222,
     "metadata": {},
     "output_type": "execute_result"
    }
   ],
   "source": [
    "data_df['RISK']\n",
    "#True: Bad loss\n",
    "#False : Good Risk"
   ]
  },
  {
   "cell_type": "code",
   "execution_count": 223,
   "id": "e1b28a53",
   "metadata": {},
   "outputs": [
    {
     "data": {
      "text/html": [
       "<div>\n",
       "<style scoped>\n",
       "    .dataframe tbody tr th:only-of-type {\n",
       "        vertical-align: middle;\n",
       "    }\n",
       "\n",
       "    .dataframe tbody tr th {\n",
       "        vertical-align: top;\n",
       "    }\n",
       "\n",
       "    .dataframe thead th {\n",
       "        text-align: right;\n",
       "    }\n",
       "</style>\n",
       "<table border=\"1\" class=\"dataframe\">\n",
       "  <thead>\n",
       "    <tr style=\"text-align: right;\">\n",
       "      <th></th>\n",
       "      <th>AGE</th>\n",
       "      <th>INCOME</th>\n",
       "      <th>LOANS</th>\n",
       "      <th>RISK</th>\n",
       "    </tr>\n",
       "  </thead>\n",
       "  <tbody>\n",
       "    <tr>\n",
       "      <th>0</th>\n",
       "      <td>40</td>\n",
       "      <td>28785</td>\n",
       "      <td>3</td>\n",
       "      <td>False</td>\n",
       "    </tr>\n",
       "    <tr>\n",
       "      <th>1</th>\n",
       "      <td>44</td>\n",
       "      <td>28617</td>\n",
       "      <td>2</td>\n",
       "      <td>False</td>\n",
       "    </tr>\n",
       "    <tr>\n",
       "      <th>2</th>\n",
       "      <td>44</td>\n",
       "      <td>28230</td>\n",
       "      <td>2</td>\n",
       "      <td>False</td>\n",
       "    </tr>\n",
       "    <tr>\n",
       "      <th>3</th>\n",
       "      <td>44</td>\n",
       "      <td>27909</td>\n",
       "      <td>2</td>\n",
       "      <td>False</td>\n",
       "    </tr>\n",
       "    <tr>\n",
       "      <th>4</th>\n",
       "      <td>45</td>\n",
       "      <td>27553</td>\n",
       "      <td>2</td>\n",
       "      <td>False</td>\n",
       "    </tr>\n",
       "    <tr>\n",
       "      <th>...</th>\n",
       "      <td>...</td>\n",
       "      <td>...</td>\n",
       "      <td>...</td>\n",
       "      <td>...</td>\n",
       "    </tr>\n",
       "    <tr>\n",
       "      <th>241</th>\n",
       "      <td>35</td>\n",
       "      <td>27706</td>\n",
       "      <td>0</td>\n",
       "      <td>True</td>\n",
       "    </tr>\n",
       "    <tr>\n",
       "      <th>242</th>\n",
       "      <td>38</td>\n",
       "      <td>26539</td>\n",
       "      <td>0</td>\n",
       "      <td>True</td>\n",
       "    </tr>\n",
       "    <tr>\n",
       "      <th>243</th>\n",
       "      <td>37</td>\n",
       "      <td>25771</td>\n",
       "      <td>0</td>\n",
       "      <td>True</td>\n",
       "    </tr>\n",
       "    <tr>\n",
       "      <th>244</th>\n",
       "      <td>34</td>\n",
       "      <td>25276</td>\n",
       "      <td>0</td>\n",
       "      <td>True</td>\n",
       "    </tr>\n",
       "    <tr>\n",
       "      <th>245</th>\n",
       "      <td>25</td>\n",
       "      <td>23944</td>\n",
       "      <td>1</td>\n",
       "      <td>True</td>\n",
       "    </tr>\n",
       "  </tbody>\n",
       "</table>\n",
       "<p>246 rows × 4 columns</p>\n",
       "</div>"
      ],
      "text/plain": [
       "    AGE INCOME LOANS   RISK\n",
       "0    40  28785     3  False\n",
       "1    44  28617     2  False\n",
       "2    44  28230     2  False\n",
       "3    44  27909     2  False\n",
       "4    45  27553     2  False\n",
       "..   ..    ...   ...    ...\n",
       "241  35  27706     0   True\n",
       "242  38  26539     0   True\n",
       "243  37  25771     0   True\n",
       "244  34  25276     0   True\n",
       "245  25  23944     1   True\n",
       "\n",
       "[246 rows x 4 columns]"
      ]
     },
     "execution_count": 223,
     "metadata": {},
     "output_type": "execute_result"
    }
   ],
   "source": [
    "data_df"
   ]
  },
  {
   "cell_type": "code",
   "execution_count": 224,
   "id": "9e6d9d73",
   "metadata": {},
   "outputs": [
    {
     "data": {
      "text/plain": [
       "AGE       object\n",
       "INCOME    object\n",
       "LOANS     object\n",
       "RISK        bool\n",
       "dtype: object"
      ]
     },
     "execution_count": 224,
     "metadata": {},
     "output_type": "execute_result"
    }
   ],
   "source": [
    "data_df.dtypes"
   ]
  },
  {
   "cell_type": "code",
   "execution_count": 225,
   "id": "42ebe3bb",
   "metadata": {},
   "outputs": [],
   "source": [
    "# First, check for any non-numeric values in 'AGE', 'INCOME', and 'LOANS' columns\n",
    "numeric_cols = ['AGE', 'INCOME', 'LOANS']\n",
    "for col in numeric_cols:\n",
    "    data_df[col] = pd.to_numeric(data_df[col], errors='coerce')"
   ]
  },
  {
   "cell_type": "code",
   "execution_count": 226,
   "id": "335516c9",
   "metadata": {},
   "outputs": [
    {
     "data": {
      "text/plain": [
       "AGE         int64\n",
       "INCOME    float64\n",
       "LOANS     float64\n",
       "RISK         bool\n",
       "dtype: object"
      ]
     },
     "execution_count": 226,
     "metadata": {},
     "output_type": "execute_result"
    }
   ],
   "source": [
    "data_df.dtypes"
   ]
  },
  {
   "cell_type": "code",
   "execution_count": 227,
   "id": "617b486f",
   "metadata": {},
   "outputs": [],
   "source": [
    "data_df['INCOME'].fillna(0, inplace=True)\n",
    "data_df['LOANS'].fillna(0, inplace=True)\n",
    "\n",
    "data_df['INCOME'] = data_df['INCOME'].astype(int)\n",
    "data_df['LOANS'] = data_df['LOANS'].astype(int)"
   ]
  },
  {
   "cell_type": "code",
   "execution_count": 228,
   "id": "427909e0",
   "metadata": {},
   "outputs": [
    {
     "data": {
      "text/plain": [
       "AGE       int64\n",
       "INCOME    int32\n",
       "LOANS     int32\n",
       "RISK       bool\n",
       "dtype: object"
      ]
     },
     "execution_count": 228,
     "metadata": {},
     "output_type": "execute_result"
    }
   ],
   "source": [
    "data_df.dtypes"
   ]
  },
  {
   "cell_type": "code",
   "execution_count": null,
   "id": "4ea0b393",
   "metadata": {},
   "outputs": [],
   "source": []
  },
  {
   "cell_type": "code",
   "execution_count": null,
   "id": "b2c5b80b",
   "metadata": {},
   "outputs": [],
   "source": []
  },
  {
   "cell_type": "markdown",
   "id": "971cc2d9",
   "metadata": {},
   "source": [
    "# Linear Regression Model"
   ]
  },
  {
   "cell_type": "code",
   "execution_count": 157,
   "id": "dd2b8234",
   "metadata": {},
   "outputs": [],
   "source": [
    "X = data_df[['AGE', 'INCOME', 'LOANS']]\n",
    "y = data_df['RISK']\n"
   ]
  },
  {
   "cell_type": "code",
   "execution_count": 158,
   "id": "5fecca80",
   "metadata": {},
   "outputs": [],
   "source": [
    "model = LogisticRegression()\n"
   ]
  },
  {
   "cell_type": "code",
   "execution_count": 160,
   "id": "157e0789",
   "metadata": {},
   "outputs": [],
   "source": [
    "X_train, X_test, y_train, y_test = train_test_split(X, y, test_size=0.3, random_state=42)\n"
   ]
  },
  {
   "cell_type": "code",
   "execution_count": 161,
   "id": "89d6a45e",
   "metadata": {},
   "outputs": [],
   "source": [
    "model = LogisticRegression(random_state=42)\n"
   ]
  },
  {
   "cell_type": "code",
   "execution_count": 162,
   "id": "ae8b7730",
   "metadata": {},
   "outputs": [
    {
     "data": {
      "text/plain": [
       "LogisticRegression(random_state=42)"
      ]
     },
     "execution_count": 162,
     "metadata": {},
     "output_type": "execute_result"
    }
   ],
   "source": [
    "model.fit(X_train, y_train)\n"
   ]
  },
  {
   "cell_type": "code",
   "execution_count": 163,
   "id": "0b0bf518",
   "metadata": {},
   "outputs": [],
   "source": [
    "y_pred = model.predict(X_test)\n"
   ]
  },
  {
   "cell_type": "code",
   "execution_count": 164,
   "id": "c066d859",
   "metadata": {},
   "outputs": [
    {
     "name": "stdout",
     "output_type": "stream",
     "text": [
      "Accuracy: 0.4864864864864865\n"
     ]
    }
   ],
   "source": [
    "accuracy = accuracy_score(y_test, y_pred)\n",
    "print(\"Accuracy:\", accuracy)"
   ]
  },
  {
   "cell_type": "code",
   "execution_count": 165,
   "id": "3bed2bb5",
   "metadata": {},
   "outputs": [
    {
     "name": "stdout",
     "output_type": "stream",
     "text": [
      "Classification Report:\n",
      "              precision    recall  f1-score   support\n",
      "\n",
      "       False       0.49      0.51      0.50        37\n",
      "        True       0.49      0.46      0.47        37\n",
      "\n",
      "    accuracy                           0.49        74\n",
      "   macro avg       0.49      0.49      0.49        74\n",
      "weighted avg       0.49      0.49      0.49        74\n",
      "\n"
     ]
    }
   ],
   "source": [
    "print(\"Classification Report:\")\n",
    "print(classification_report(y_test, y_pred))\n"
   ]
  },
  {
   "cell_type": "code",
   "execution_count": 168,
   "id": "4591d30f",
   "metadata": {},
   "outputs": [
    {
     "name": "stdout",
     "output_type": "stream",
     "text": [
      "ROC AUC: 0.5631848064280497\n"
     ]
    }
   ],
   "source": [
    "y_pred_probs = model.predict_proba(X_test)[:, 1]  # Probabilities of being 'True' (positive class)\n",
    "roc_auc = roc_auc_score(y_test, y_pred_probs)\n",
    "print(\"ROC AUC:\", roc_auc)"
   ]
  },
  {
   "cell_type": "code",
   "execution_count": 169,
   "id": "f98c3413",
   "metadata": {},
   "outputs": [],
   "source": [
    "sorted_indices = np.argsort(y_pred_probs)[::-1]\n"
   ]
  },
  {
   "cell_type": "code",
   "execution_count": 172,
   "id": "bbf99440",
   "metadata": {},
   "outputs": [],
   "source": [
    "top_5_index = sorted_indices[:5]\n"
   ]
  },
  {
   "cell_type": "code",
   "execution_count": 173,
   "id": "e6d2ca6f",
   "metadata": {},
   "outputs": [],
   "source": []
  },
  {
   "cell_type": "markdown",
   "id": "9cc7b404",
   "metadata": {},
   "source": [
    "# KNN model"
   ]
  },
  {
   "cell_type": "code",
   "execution_count": 175,
   "id": "8b824aee",
   "metadata": {},
   "outputs": [],
   "source": [
    "X_train, X_test, y_train, y_test = train_test_split(X, y, test_size=0.2, random_state=42)\n",
    "\n"
   ]
  },
  {
   "cell_type": "code",
   "execution_count": 179,
   "id": "67ae6650",
   "metadata": {},
   "outputs": [],
   "source": [
    "knn = KNeighborsClassifier(n_neighbors=5)  # You can adjust the number of neighbors (k) as per your requirement\n"
   ]
  },
  {
   "cell_type": "code",
   "execution_count": 180,
   "id": "6433468b",
   "metadata": {},
   "outputs": [
    {
     "data": {
      "text/plain": [
       "KNeighborsClassifier()"
      ]
     },
     "execution_count": 180,
     "metadata": {},
     "output_type": "execute_result"
    }
   ],
   "source": [
    "knn.fit(X_train, y_train)"
   ]
  },
  {
   "cell_type": "code",
   "execution_count": 181,
   "id": "5af8f152",
   "metadata": {},
   "outputs": [
    {
     "name": "stderr",
     "output_type": "stream",
     "text": [
      "C:\\ProgramData\\Anaconda3\\lib\\site-packages\\sklearn\\neighbors\\_classification.py:228: FutureWarning: Unlike other reduction functions (e.g. `skew`, `kurtosis`), the default behavior of `mode` typically preserves the axis it acts along. In SciPy 1.11.0, this behavior will change: the default value of `keepdims` will become False, the `axis` over which the statistic is taken will be eliminated, and the value None will no longer be accepted. Set `keepdims` to True or False to avoid this warning.\n",
      "  mode, _ = stats.mode(_y[neigh_ind, k], axis=1)\n"
     ]
    }
   ],
   "source": [
    "y_pred = knn.predict(X_test)\n"
   ]
  },
  {
   "cell_type": "code",
   "execution_count": 182,
   "id": "587fb183",
   "metadata": {},
   "outputs": [
    {
     "name": "stdout",
     "output_type": "stream",
     "text": [
      "Accuracy: 0.64\n"
     ]
    }
   ],
   "source": [
    "accuracy = accuracy_score(y_test, y_pred)\n",
    "print(\"Accuracy:\", accuracy)\n"
   ]
  },
  {
   "cell_type": "code",
   "execution_count": 183,
   "id": "5d67ae21",
   "metadata": {},
   "outputs": [
    {
     "name": "stdout",
     "output_type": "stream",
     "text": [
      "ROC AUC: 0.6554487179487181\n"
     ]
    }
   ],
   "source": [
    "y_pred_probs = knn.predict_proba(X_test)[:, 1]\n",
    "roc_auc = roc_auc_score(y_test, y_pred_probs)\n",
    "print(\"ROC AUC:\", roc_auc)"
   ]
  },
  {
   "cell_type": "code",
   "execution_count": 184,
   "id": "06851179",
   "metadata": {},
   "outputs": [
    {
     "name": "stdout",
     "output_type": "stream",
     "text": [
      "Top 5 Best and Most Reliable Customers:\n",
      "     AGE  INCOME  LOANS\n",
      "38    27   18488      2\n",
      "132   22   18701      1\n",
      "183   24   18749      1\n",
      "220   43   42106      0\n",
      "212   30   44756      1\n"
     ]
    }
   ],
   "source": [
    "top_5_index = np.argsort(y_pred_probs)[::-1][:5]\n",
    "\n",
    "top_5_customers = X_test.iloc[top_5_index]\n",
    "\n",
    "# Print the top 5 customers\n",
    "print(\"Top 5 Best and Most Reliable Customers:\")\n",
    "print(top_5_customers)"
   ]
  },
  {
   "cell_type": "markdown",
   "id": "6da18c74",
   "metadata": {},
   "source": [
    "# Random Forest Classifier"
   ]
  },
  {
   "cell_type": "code",
   "execution_count": 185,
   "id": "7604f8dd",
   "metadata": {},
   "outputs": [],
   "source": [
    "X_train, X_test, y_train, y_test = train_test_split(X, y, test_size=0.2, random_state=42)\n",
    "\n"
   ]
  },
  {
   "cell_type": "code",
   "execution_count": 188,
   "id": "00c1d51a",
   "metadata": {},
   "outputs": [],
   "source": [
    "random_forest = RandomForestClassifier(n_estimators=100, random_state=42)  # You can adjust the number of estimators (trees) as per your requirement\n"
   ]
  },
  {
   "cell_type": "code",
   "execution_count": 189,
   "id": "c4720952",
   "metadata": {},
   "outputs": [
    {
     "data": {
      "text/plain": [
       "RandomForestClassifier(random_state=42)"
      ]
     },
     "execution_count": 189,
     "metadata": {},
     "output_type": "execute_result"
    }
   ],
   "source": [
    "random_forest.fit(X_train, y_train)\n"
   ]
  },
  {
   "cell_type": "code",
   "execution_count": 190,
   "id": "610db2ee",
   "metadata": {},
   "outputs": [],
   "source": [
    "y_pred = random_forest.predict(X_test)\n",
    "\n"
   ]
  },
  {
   "cell_type": "code",
   "execution_count": 191,
   "id": "bc7a2630",
   "metadata": {},
   "outputs": [
    {
     "name": "stdout",
     "output_type": "stream",
     "text": [
      "Accuracy: 0.66\n"
     ]
    }
   ],
   "source": [
    "accuracy = accuracy_score(y_test, y_pred)\n",
    "print(\"Accuracy:\", accuracy)\n"
   ]
  },
  {
   "cell_type": "code",
   "execution_count": 192,
   "id": "697afc9e",
   "metadata": {},
   "outputs": [
    {
     "name": "stdout",
     "output_type": "stream",
     "text": [
      "ROC AUC: 0.7475961538461539\n"
     ]
    }
   ],
   "source": [
    "y_pred_probs = random_forest.predict_proba(X_test)[:, 1]\n",
    "roc_auc = roc_auc_score(y_test, y_pred_probs)\n",
    "print(\"ROC AUC:\", roc_auc)"
   ]
  },
  {
   "cell_type": "markdown",
   "id": "fed9faea",
   "metadata": {},
   "source": [
    "# Gradient Boosting Classifier"
   ]
  },
  {
   "cell_type": "code",
   "execution_count": 194,
   "id": "0a25f69b",
   "metadata": {},
   "outputs": [],
   "source": [
    "X_train, X_test, y_train, y_test = train_test_split(X, y, test_size=0.2, random_state=42)\n"
   ]
  },
  {
   "cell_type": "code",
   "execution_count": 197,
   "id": "9a9654c5",
   "metadata": {},
   "outputs": [],
   "source": [
    "gradient_boosting = GradientBoostingClassifier(n_estimators=100, random_state=42)  # You can adjust the number of estimators (trees) as per your requirement\n"
   ]
  },
  {
   "cell_type": "code",
   "execution_count": 199,
   "id": "5de7cfcd",
   "metadata": {},
   "outputs": [
    {
     "data": {
      "text/plain": [
       "GradientBoostingClassifier(random_state=42)"
      ]
     },
     "execution_count": 199,
     "metadata": {},
     "output_type": "execute_result"
    }
   ],
   "source": [
    "gradient_boosting.fit(X_train, y_train)\n"
   ]
  },
  {
   "cell_type": "code",
   "execution_count": 200,
   "id": "232b92a1",
   "metadata": {},
   "outputs": [],
   "source": [
    "y_pred = gradient_boosting.predict(X_test)\n"
   ]
  },
  {
   "cell_type": "code",
   "execution_count": 201,
   "id": "a39c95d9",
   "metadata": {},
   "outputs": [
    {
     "name": "stdout",
     "output_type": "stream",
     "text": [
      "Accuracy: 0.72\n"
     ]
    }
   ],
   "source": [
    "accuracy = accuracy_score(y_test, y_pred)\n",
    "print(\"Accuracy:\", accuracy)\n"
   ]
  },
  {
   "cell_type": "code",
   "execution_count": 202,
   "id": "d9688221",
   "metadata": {},
   "outputs": [
    {
     "name": "stdout",
     "output_type": "stream",
     "text": [
      "ROC AUC: 0.7740384615384616\n"
     ]
    }
   ],
   "source": [
    "y_pred_probs = gradient_boosting.predict_proba(X_test)[:, 1]\n",
    "roc_auc = roc_auc_score(y_test, y_pred_probs)\n",
    "print(\"ROC AUC:\", roc_auc)"
   ]
  },
  {
   "cell_type": "code",
   "execution_count": null,
   "id": "f23c480d",
   "metadata": {},
   "outputs": [],
   "source": []
  },
  {
   "cell_type": "code",
   "execution_count": 246,
   "id": "b857dc23",
   "metadata": {},
   "outputs": [],
   "source": [
    "gradient_boosting = GradientBoostingClassifier(n_estimators=5000, learning_rate=0.01, validation_fraction=0.2, n_iter_no_change=20, random_state=42)\n"
   ]
  },
  {
   "cell_type": "code",
   "execution_count": 247,
   "id": "23c4e7db",
   "metadata": {},
   "outputs": [
    {
     "data": {
      "text/plain": [
       "GradientBoostingClassifier(learning_rate=0.01, n_estimators=5000,\n",
       "                           n_iter_no_change=20, random_state=42,\n",
       "                           validation_fraction=0.2)"
      ]
     },
     "execution_count": 247,
     "metadata": {},
     "output_type": "execute_result"
    }
   ],
   "source": [
    "gradient_boosting.fit(X_train, y_train)\n"
   ]
  },
  {
   "cell_type": "code",
   "execution_count": 248,
   "id": "357a2f26",
   "metadata": {},
   "outputs": [],
   "source": [
    "y_pred = gradient_boosting.predict(X_test)\n"
   ]
  },
  {
   "cell_type": "code",
   "execution_count": 249,
   "id": "c9c9efea",
   "metadata": {},
   "outputs": [
    {
     "name": "stdout",
     "output_type": "stream",
     "text": [
      "Accuracy: 0.7\n"
     ]
    }
   ],
   "source": [
    "accuracy = accuracy_score(y_test, y_pred)\n",
    "print(\"Accuracy:\", accuracy)\n"
   ]
  },
  {
   "cell_type": "code",
   "execution_count": 250,
   "id": "b0cf584d",
   "metadata": {},
   "outputs": [
    {
     "name": "stdout",
     "output_type": "stream",
     "text": [
      "ROC AUC: 0.7227564102564102\n"
     ]
    }
   ],
   "source": [
    "y_pred_probs = gradient_boosting.predict_proba(X_test)[:, 1]\n",
    "roc_auc = roc_auc_score(y_test, y_pred_probs)\n",
    "print(\"ROC AUC:\", roc_auc)"
   ]
  },
  {
   "cell_type": "code",
   "execution_count": null,
   "id": "94455cf1",
   "metadata": {},
   "outputs": [],
   "source": []
  },
  {
   "cell_type": "code",
   "execution_count": 252,
   "id": "4b26674a",
   "metadata": {},
   "outputs": [],
   "source": [
    "X_train, X_test, y_train, y_test = train_test_split(X, y, test_size=0.2, random_state=42)\n"
   ]
  },
  {
   "cell_type": "code",
   "execution_count": 253,
   "id": "c6dfc609",
   "metadata": {},
   "outputs": [],
   "source": [
    "scaler = StandardScaler()\n",
    "X_train_scaled = scaler.fit_transform(X_train)\n",
    "X_test_scaled = scaler.transform(X_test)\n"
   ]
  },
  {
   "cell_type": "code",
   "execution_count": 254,
   "id": "65a10208",
   "metadata": {},
   "outputs": [],
   "source": [
    "model = Sequential()\n",
    "model.add(Dense(128, input_dim=X_train_scaled.shape[1], activation='relu'))\n",
    "model.add(Dense(64, activation='relu'))\n",
    "model.add(Dense(1, activation='sigmoid'))\n"
   ]
  },
  {
   "cell_type": "code",
   "execution_count": 255,
   "id": "b98c70b8",
   "metadata": {},
   "outputs": [
    {
     "name": "stderr",
     "output_type": "stream",
     "text": [
      "WARNING:absl:`lr` is deprecated in Keras optimizer, please use `learning_rate` or use the legacy optimizer, e.g.,tf.keras.optimizers.legacy.Adam.\n"
     ]
    }
   ],
   "source": [
    "model.compile(loss='binary_crossentropy', optimizer=Adam(lr=0.001), metrics=['accuracy'])\n"
   ]
  },
  {
   "cell_type": "code",
   "execution_count": 256,
   "id": "d0c1c3e5",
   "metadata": {},
   "outputs": [
    {
     "name": "stdout",
     "output_type": "stream",
     "text": [
      "Epoch 1/100\n",
      "5/5 [==============================] - 3s 140ms/step - loss: 0.6812 - accuracy: 0.6090 - val_loss: 0.6600 - val_accuracy: 0.6500\n",
      "Epoch 2/100\n",
      "5/5 [==============================] - 0s 22ms/step - loss: 0.6476 - accuracy: 0.7179 - val_loss: 0.6350 - val_accuracy: 0.6500\n",
      "Epoch 3/100\n",
      "5/5 [==============================] - 0s 22ms/step - loss: 0.6214 - accuracy: 0.7244 - val_loss: 0.6163 - val_accuracy: 0.6500\n",
      "Epoch 4/100\n",
      "5/5 [==============================] - 0s 23ms/step - loss: 0.6009 - accuracy: 0.7500 - val_loss: 0.6020 - val_accuracy: 0.6500\n",
      "Epoch 5/100\n",
      "5/5 [==============================] - 0s 24ms/step - loss: 0.5859 - accuracy: 0.7756 - val_loss: 0.5912 - val_accuracy: 0.6750\n",
      "Epoch 6/100\n",
      "5/5 [==============================] - 0s 32ms/step - loss: 0.5739 - accuracy: 0.7756 - val_loss: 0.5831 - val_accuracy: 0.6750\n",
      "Epoch 7/100\n",
      "5/5 [==============================] - 0s 50ms/step - loss: 0.5647 - accuracy: 0.7756 - val_loss: 0.5774 - val_accuracy: 0.7250\n",
      "Epoch 8/100\n",
      "5/5 [==============================] - 0s 27ms/step - loss: 0.5584 - accuracy: 0.7756 - val_loss: 0.5715 - val_accuracy: 0.7500\n",
      "Epoch 9/100\n",
      "5/5 [==============================] - 0s 21ms/step - loss: 0.5517 - accuracy: 0.7756 - val_loss: 0.5685 - val_accuracy: 0.7500\n",
      "Epoch 10/100\n",
      "5/5 [==============================] - 0s 21ms/step - loss: 0.5481 - accuracy: 0.7756 - val_loss: 0.5672 - val_accuracy: 0.7500\n",
      "Epoch 11/100\n",
      "5/5 [==============================] - 0s 24ms/step - loss: 0.5438 - accuracy: 0.7756 - val_loss: 0.5635 - val_accuracy: 0.7500\n",
      "Epoch 12/100\n",
      "5/5 [==============================] - 0s 22ms/step - loss: 0.5390 - accuracy: 0.7821 - val_loss: 0.5612 - val_accuracy: 0.7500\n",
      "Epoch 13/100\n",
      "5/5 [==============================] - 0s 29ms/step - loss: 0.5352 - accuracy: 0.7692 - val_loss: 0.5609 - val_accuracy: 0.7250\n",
      "Epoch 14/100\n",
      "5/5 [==============================] - 0s 44ms/step - loss: 0.5317 - accuracy: 0.7692 - val_loss: 0.5595 - val_accuracy: 0.7250\n",
      "Epoch 15/100\n",
      "5/5 [==============================] - 0s 23ms/step - loss: 0.5288 - accuracy: 0.7756 - val_loss: 0.5574 - val_accuracy: 0.7250\n",
      "Epoch 16/100\n",
      "5/5 [==============================] - 0s 22ms/step - loss: 0.5256 - accuracy: 0.7885 - val_loss: 0.5542 - val_accuracy: 0.7500\n",
      "Epoch 17/100\n",
      "5/5 [==============================] - 0s 23ms/step - loss: 0.5218 - accuracy: 0.7821 - val_loss: 0.5541 - val_accuracy: 0.7500\n",
      "Epoch 18/100\n",
      "5/5 [==============================] - 0s 25ms/step - loss: 0.5193 - accuracy: 0.7821 - val_loss: 0.5550 - val_accuracy: 0.7250\n",
      "Epoch 19/100\n",
      "5/5 [==============================] - 0s 22ms/step - loss: 0.5161 - accuracy: 0.7756 - val_loss: 0.5547 - val_accuracy: 0.7250\n",
      "Epoch 20/100\n",
      "5/5 [==============================] - 0s 35ms/step - loss: 0.5129 - accuracy: 0.7821 - val_loss: 0.5509 - val_accuracy: 0.7500\n",
      "Epoch 21/100\n",
      "5/5 [==============================] - 0s 26ms/step - loss: 0.5102 - accuracy: 0.7949 - val_loss: 0.5491 - val_accuracy: 0.7500\n",
      "Epoch 22/100\n",
      "5/5 [==============================] - 0s 25ms/step - loss: 0.5079 - accuracy: 0.7949 - val_loss: 0.5477 - val_accuracy: 0.7500\n",
      "Epoch 23/100\n",
      "5/5 [==============================] - 0s 29ms/step - loss: 0.5048 - accuracy: 0.7885 - val_loss: 0.5496 - val_accuracy: 0.7500\n",
      "Epoch 24/100\n",
      "5/5 [==============================] - 0s 22ms/step - loss: 0.5022 - accuracy: 0.7885 - val_loss: 0.5509 - val_accuracy: 0.7500\n",
      "Epoch 25/100\n",
      "5/5 [==============================] - 0s 21ms/step - loss: 0.4989 - accuracy: 0.7885 - val_loss: 0.5491 - val_accuracy: 0.7500\n",
      "Epoch 26/100\n",
      "5/5 [==============================] - 0s 25ms/step - loss: 0.4962 - accuracy: 0.7885 - val_loss: 0.5498 - val_accuracy: 0.7500\n",
      "Epoch 27/100\n",
      "5/5 [==============================] - 0s 21ms/step - loss: 0.4933 - accuracy: 0.7885 - val_loss: 0.5482 - val_accuracy: 0.7500\n",
      "Epoch 28/100\n",
      "5/5 [==============================] - 0s 22ms/step - loss: 0.4911 - accuracy: 0.7885 - val_loss: 0.5487 - val_accuracy: 0.7500\n",
      "Epoch 29/100\n",
      "5/5 [==============================] - 0s 30ms/step - loss: 0.4895 - accuracy: 0.7885 - val_loss: 0.5471 - val_accuracy: 0.7500\n",
      "Epoch 30/100\n",
      "5/5 [==============================] - 0s 40ms/step - loss: 0.4870 - accuracy: 0.7885 - val_loss: 0.5465 - val_accuracy: 0.7500\n",
      "Epoch 31/100\n",
      "5/5 [==============================] - 0s 31ms/step - loss: 0.4843 - accuracy: 0.7885 - val_loss: 0.5493 - val_accuracy: 0.7500\n",
      "Epoch 32/100\n",
      "5/5 [==============================] - 0s 25ms/step - loss: 0.4831 - accuracy: 0.7949 - val_loss: 0.5498 - val_accuracy: 0.7500\n",
      "Epoch 33/100\n",
      "5/5 [==============================] - 0s 25ms/step - loss: 0.4810 - accuracy: 0.7949 - val_loss: 0.5507 - val_accuracy: 0.7500\n",
      "Epoch 34/100\n",
      "5/5 [==============================] - 0s 26ms/step - loss: 0.4773 - accuracy: 0.7949 - val_loss: 0.5500 - val_accuracy: 0.7500\n",
      "Epoch 35/100\n",
      "5/5 [==============================] - 0s 22ms/step - loss: 0.4758 - accuracy: 0.7949 - val_loss: 0.5486 - val_accuracy: 0.7500\n",
      "Epoch 36/100\n",
      "5/5 [==============================] - 0s 21ms/step - loss: 0.4754 - accuracy: 0.7949 - val_loss: 0.5489 - val_accuracy: 0.7500\n",
      "Epoch 37/100\n",
      "5/5 [==============================] - 0s 20ms/step - loss: 0.4713 - accuracy: 0.7885 - val_loss: 0.5514 - val_accuracy: 0.7500\n",
      "Epoch 38/100\n",
      "5/5 [==============================] - 0s 23ms/step - loss: 0.4693 - accuracy: 0.7821 - val_loss: 0.5527 - val_accuracy: 0.7500\n",
      "Epoch 39/100\n",
      "5/5 [==============================] - 0s 22ms/step - loss: 0.4668 - accuracy: 0.7949 - val_loss: 0.5520 - val_accuracy: 0.7500\n",
      "Epoch 40/100\n",
      "5/5 [==============================] - 0s 27ms/step - loss: 0.4654 - accuracy: 0.8205 - val_loss: 0.5520 - val_accuracy: 0.7500\n",
      "Epoch 41/100\n",
      "5/5 [==============================] - 0s 22ms/step - loss: 0.4637 - accuracy: 0.8077 - val_loss: 0.5528 - val_accuracy: 0.7500\n",
      "Epoch 42/100\n",
      "5/5 [==============================] - 0s 24ms/step - loss: 0.4605 - accuracy: 0.8077 - val_loss: 0.5553 - val_accuracy: 0.7500\n",
      "Epoch 43/100\n",
      "5/5 [==============================] - 0s 28ms/step - loss: 0.4598 - accuracy: 0.7949 - val_loss: 0.5576 - val_accuracy: 0.7500\n",
      "Epoch 44/100\n",
      "5/5 [==============================] - 0s 24ms/step - loss: 0.4570 - accuracy: 0.7949 - val_loss: 0.5570 - val_accuracy: 0.7500\n",
      "Epoch 45/100\n",
      "5/5 [==============================] - 0s 22ms/step - loss: 0.4551 - accuracy: 0.8077 - val_loss: 0.5560 - val_accuracy: 0.7500\n",
      "Epoch 46/100\n",
      "5/5 [==============================] - 0s 24ms/step - loss: 0.4545 - accuracy: 0.8013 - val_loss: 0.5594 - val_accuracy: 0.7500\n",
      "Epoch 47/100\n",
      "5/5 [==============================] - 0s 25ms/step - loss: 0.4527 - accuracy: 0.7949 - val_loss: 0.5609 - val_accuracy: 0.7500\n",
      "Epoch 48/100\n",
      "5/5 [==============================] - 0s 22ms/step - loss: 0.4502 - accuracy: 0.8077 - val_loss: 0.5602 - val_accuracy: 0.7500\n",
      "Epoch 49/100\n",
      "5/5 [==============================] - 0s 42ms/step - loss: 0.4520 - accuracy: 0.7949 - val_loss: 0.5653 - val_accuracy: 0.7500\n",
      "Epoch 50/100\n",
      "5/5 [==============================] - 0s 22ms/step - loss: 0.4463 - accuracy: 0.8013 - val_loss: 0.5637 - val_accuracy: 0.7500\n",
      "Epoch 51/100\n",
      "5/5 [==============================] - 0s 27ms/step - loss: 0.4463 - accuracy: 0.8077 - val_loss: 0.5637 - val_accuracy: 0.7500\n",
      "Epoch 52/100\n",
      "5/5 [==============================] - 0s 28ms/step - loss: 0.4435 - accuracy: 0.8077 - val_loss: 0.5671 - val_accuracy: 0.7500\n",
      "Epoch 53/100\n",
      "5/5 [==============================] - 0s 28ms/step - loss: 0.4422 - accuracy: 0.8077 - val_loss: 0.5692 - val_accuracy: 0.7500\n",
      "Epoch 54/100\n",
      "5/5 [==============================] - 0s 23ms/step - loss: 0.4408 - accuracy: 0.7949 - val_loss: 0.5724 - val_accuracy: 0.7500\n",
      "Epoch 55/100\n",
      "5/5 [==============================] - 0s 28ms/step - loss: 0.4391 - accuracy: 0.7949 - val_loss: 0.5731 - val_accuracy: 0.7500\n",
      "Epoch 56/100\n",
      "5/5 [==============================] - 0s 24ms/step - loss: 0.4384 - accuracy: 0.8013 - val_loss: 0.5729 - val_accuracy: 0.7250\n",
      "Epoch 57/100\n",
      "5/5 [==============================] - 0s 35ms/step - loss: 0.4352 - accuracy: 0.8077 - val_loss: 0.5736 - val_accuracy: 0.7500\n",
      "Epoch 58/100\n",
      "5/5 [==============================] - 0s 33ms/step - loss: 0.4352 - accuracy: 0.8013 - val_loss: 0.5767 - val_accuracy: 0.7500\n",
      "Epoch 59/100\n",
      "5/5 [==============================] - 0s 32ms/step - loss: 0.4327 - accuracy: 0.8013 - val_loss: 0.5767 - val_accuracy: 0.7500\n",
      "Epoch 60/100\n",
      "5/5 [==============================] - 0s 41ms/step - loss: 0.4316 - accuracy: 0.8013 - val_loss: 0.5778 - val_accuracy: 0.7000\n",
      "Epoch 61/100\n",
      "5/5 [==============================] - 0s 33ms/step - loss: 0.4298 - accuracy: 0.8013 - val_loss: 0.5815 - val_accuracy: 0.7250\n",
      "Epoch 62/100\n",
      "5/5 [==============================] - 0s 24ms/step - loss: 0.4296 - accuracy: 0.8013 - val_loss: 0.5832 - val_accuracy: 0.7250\n",
      "Epoch 63/100\n",
      "5/5 [==============================] - 0s 24ms/step - loss: 0.4284 - accuracy: 0.8013 - val_loss: 0.5818 - val_accuracy: 0.7250\n",
      "Epoch 64/100\n",
      "5/5 [==============================] - 0s 23ms/step - loss: 0.4259 - accuracy: 0.8141 - val_loss: 0.5854 - val_accuracy: 0.7250\n",
      "Epoch 65/100\n",
      "5/5 [==============================] - 0s 21ms/step - loss: 0.4250 - accuracy: 0.7949 - val_loss: 0.5905 - val_accuracy: 0.7500\n",
      "Epoch 66/100\n",
      "5/5 [==============================] - 0s 25ms/step - loss: 0.4227 - accuracy: 0.8013 - val_loss: 0.5919 - val_accuracy: 0.7250\n",
      "Epoch 67/100\n",
      "5/5 [==============================] - 0s 25ms/step - loss: 0.4217 - accuracy: 0.7949 - val_loss: 0.5919 - val_accuracy: 0.7000\n",
      "Epoch 68/100\n",
      "5/5 [==============================] - 0s 22ms/step - loss: 0.4206 - accuracy: 0.8205 - val_loss: 0.5908 - val_accuracy: 0.6750\n",
      "Epoch 69/100\n",
      "5/5 [==============================] - 0s 21ms/step - loss: 0.4201 - accuracy: 0.8141 - val_loss: 0.5957 - val_accuracy: 0.7000\n",
      "Epoch 70/100\n",
      "5/5 [==============================] - 0s 22ms/step - loss: 0.4202 - accuracy: 0.8077 - val_loss: 0.5969 - val_accuracy: 0.7250\n",
      "Epoch 71/100\n",
      "5/5 [==============================] - 0s 23ms/step - loss: 0.4184 - accuracy: 0.8077 - val_loss: 0.5978 - val_accuracy: 0.7000\n",
      "Epoch 72/100\n",
      "5/5 [==============================] - 0s 23ms/step - loss: 0.4153 - accuracy: 0.8013 - val_loss: 0.6020 - val_accuracy: 0.7000\n",
      "Epoch 73/100\n",
      "5/5 [==============================] - 0s 24ms/step - loss: 0.4152 - accuracy: 0.8077 - val_loss: 0.6046 - val_accuracy: 0.7000\n",
      "Epoch 74/100\n",
      "5/5 [==============================] - 0s 24ms/step - loss: 0.4137 - accuracy: 0.8077 - val_loss: 0.6066 - val_accuracy: 0.7250\n",
      "Epoch 75/100\n",
      "5/5 [==============================] - 0s 27ms/step - loss: 0.4152 - accuracy: 0.8205 - val_loss: 0.6018 - val_accuracy: 0.6750\n",
      "Epoch 76/100\n",
      "5/5 [==============================] - 0s 24ms/step - loss: 0.4104 - accuracy: 0.8269 - val_loss: 0.6061 - val_accuracy: 0.6750\n",
      "Epoch 77/100\n",
      "5/5 [==============================] - 0s 23ms/step - loss: 0.4117 - accuracy: 0.8141 - val_loss: 0.6118 - val_accuracy: 0.7000\n",
      "Epoch 78/100\n",
      "5/5 [==============================] - 0s 22ms/step - loss: 0.4094 - accuracy: 0.8141 - val_loss: 0.6153 - val_accuracy: 0.7250\n",
      "Epoch 79/100\n",
      "5/5 [==============================] - 0s 27ms/step - loss: 0.4081 - accuracy: 0.8269 - val_loss: 0.6119 - val_accuracy: 0.6750\n",
      "Epoch 80/100\n",
      "5/5 [==============================] - 0s 23ms/step - loss: 0.4070 - accuracy: 0.8269 - val_loss: 0.6138 - val_accuracy: 0.6750\n",
      "Epoch 81/100\n",
      "5/5 [==============================] - 0s 21ms/step - loss: 0.4062 - accuracy: 0.8141 - val_loss: 0.6181 - val_accuracy: 0.7000\n",
      "Epoch 82/100\n",
      "5/5 [==============================] - 0s 22ms/step - loss: 0.4065 - accuracy: 0.8269 - val_loss: 0.6179 - val_accuracy: 0.6750\n",
      "Epoch 83/100\n",
      "5/5 [==============================] - 0s 24ms/step - loss: 0.4041 - accuracy: 0.8269 - val_loss: 0.6185 - val_accuracy: 0.6750\n",
      "Epoch 84/100\n",
      "5/5 [==============================] - 0s 21ms/step - loss: 0.4012 - accuracy: 0.8269 - val_loss: 0.6229 - val_accuracy: 0.6750\n",
      "Epoch 85/100\n",
      "5/5 [==============================] - 0s 28ms/step - loss: 0.4023 - accuracy: 0.8269 - val_loss: 0.6247 - val_accuracy: 0.7000\n",
      "Epoch 86/100\n",
      "5/5 [==============================] - 0s 22ms/step - loss: 0.4020 - accuracy: 0.8141 - val_loss: 0.6277 - val_accuracy: 0.7000\n",
      "Epoch 87/100\n",
      "5/5 [==============================] - 0s 23ms/step - loss: 0.3993 - accuracy: 0.8333 - val_loss: 0.6265 - val_accuracy: 0.6500\n",
      "Epoch 88/100\n",
      "5/5 [==============================] - 0s 22ms/step - loss: 0.3987 - accuracy: 0.8333 - val_loss: 0.6239 - val_accuracy: 0.6750\n",
      "Epoch 89/100\n",
      "5/5 [==============================] - 0s 27ms/step - loss: 0.3968 - accuracy: 0.8333 - val_loss: 0.6254 - val_accuracy: 0.6500\n",
      "Epoch 90/100\n",
      "5/5 [==============================] - 0s 22ms/step - loss: 0.3963 - accuracy: 0.8397 - val_loss: 0.6310 - val_accuracy: 0.6750\n",
      "Epoch 91/100\n",
      "5/5 [==============================] - 0s 22ms/step - loss: 0.3977 - accuracy: 0.8333 - val_loss: 0.6378 - val_accuracy: 0.7000\n",
      "Epoch 92/100\n",
      "5/5 [==============================] - 0s 28ms/step - loss: 0.3951 - accuracy: 0.8333 - val_loss: 0.6350 - val_accuracy: 0.6500\n",
      "Epoch 93/100\n",
      "5/5 [==============================] - 0s 23ms/step - loss: 0.3958 - accuracy: 0.8397 - val_loss: 0.6332 - val_accuracy: 0.6750\n",
      "Epoch 94/100\n",
      "5/5 [==============================] - 0s 22ms/step - loss: 0.3946 - accuracy: 0.8397 - val_loss: 0.6365 - val_accuracy: 0.6500\n",
      "Epoch 95/100\n",
      "5/5 [==============================] - 0s 26ms/step - loss: 0.3950 - accuracy: 0.8205 - val_loss: 0.6459 - val_accuracy: 0.7250\n",
      "Epoch 96/100\n",
      "5/5 [==============================] - 0s 25ms/step - loss: 0.3902 - accuracy: 0.8333 - val_loss: 0.6427 - val_accuracy: 0.6750\n",
      "Epoch 97/100\n",
      "5/5 [==============================] - 0s 23ms/step - loss: 0.3898 - accuracy: 0.8269 - val_loss: 0.6400 - val_accuracy: 0.6750\n",
      "Epoch 98/100\n",
      "5/5 [==============================] - 0s 23ms/step - loss: 0.3885 - accuracy: 0.8333 - val_loss: 0.6397 - val_accuracy: 0.6500\n",
      "Epoch 99/100\n",
      "5/5 [==============================] - 0s 22ms/step - loss: 0.3901 - accuracy: 0.8397 - val_loss: 0.6457 - val_accuracy: 0.6750\n",
      "Epoch 100/100\n",
      "5/5 [==============================] - 0s 24ms/step - loss: 0.3915 - accuracy: 0.8205 - val_loss: 0.6506 - val_accuracy: 0.7000\n"
     ]
    },
    {
     "data": {
      "text/plain": [
       "<keras.src.callbacks.History at 0x2261aa50eb0>"
      ]
     },
     "execution_count": 256,
     "metadata": {},
     "output_type": "execute_result"
    }
   ],
   "source": [
    "model.fit(X_train_scaled, y_train, epochs=100, batch_size=32, validation_split=0.2, verbose=1)\n"
   ]
  },
  {
   "cell_type": "code",
   "execution_count": 257,
   "id": "a9817f1f",
   "metadata": {},
   "outputs": [
    {
     "name": "stdout",
     "output_type": "stream",
     "text": [
      "2/2 [==============================] - 0s 6ms/step\n"
     ]
    }
   ],
   "source": [
    "y_pred_probs = model.predict(X_test_scaled)\n",
    "y_pred = (y_pred_probs > 0.5).astype(int)\n"
   ]
  },
  {
   "cell_type": "code",
   "execution_count": 258,
   "id": "4889cf44",
   "metadata": {},
   "outputs": [
    {
     "name": "stdout",
     "output_type": "stream",
     "text": [
      "Accuracy: 0.72\n",
      "ROC AUC: 0.7916666666666667\n"
     ]
    }
   ],
   "source": [
    "accuracy = accuracy_score(y_test, y_pred)\n",
    "print(\"Accuracy:\", accuracy)\n",
    "\n",
    "# Calculate the ROC AUC score of the model\n",
    "roc_auc = roc_auc_score(y_test, y_pred_probs)\n",
    "print(\"ROC AUC:\", roc_auc)"
   ]
  },
  {
   "cell_type": "code",
   "execution_count": 268,
   "id": "cd0d9426",
   "metadata": {},
   "outputs": [],
   "source": [
    "data_with_probs = X.copy()\n",
    "data_with_probs['RISK_Prob'] = y_pred_probs\n"
   ]
  },
  {
   "cell_type": "code",
   "execution_count": 269,
   "id": "984e9e1c",
   "metadata": {},
   "outputs": [],
   "source": [
    "top_customers = data_with_probs.sort_values(by='RISK_Prob', ascending=False)\n",
    "\n",
    "\n",
    "top_5_percent_customers = top_customers.head(int(len(top_customers) * 0.05))\n",
    "\n"
   ]
  },
  {
   "cell_type": "code",
   "execution_count": 270,
   "id": "71bdb3be",
   "metadata": {},
   "outputs": [
    {
     "name": "stdout",
     "output_type": "stream",
     "text": [
      "     AGE  INCOME  LOANS  RISK_Prob\n",
      "206   35   49600      1   0.957730\n",
      "189   22   17548      1   0.955753\n",
      "203   45   58381      0   0.953044\n",
      "188   22   17704      1   0.949656\n",
      "186   22   17917      1   0.949656\n",
      "233   35   32827      0   0.945191\n",
      "235   32   31778      0   0.945191\n",
      "144   32   31295      0   0.945191\n",
      "187   25   17886      1   0.940979\n",
      "213   45   44294      1   0.936365\n",
      "204   39   52495      1   0.930347\n",
      "207   39   47161      1   0.930347\n"
     ]
    }
   ],
   "source": [
    "print(top_5_percent_customers)"
   ]
  },
  {
   "cell_type": "code",
   "execution_count": 271,
   "id": "a45d7d6b",
   "metadata": {},
   "outputs": [
    {
     "data": {
      "image/png": "[encoded data removed]",
      "text/plain": [
       "<Figure size 1000x600 with 1 Axes>"
      ]
     },
     "metadata": {},
     "output_type": "display_data"
    }
   ],
   "source": [
    "gb_classifier = GradientBoostingClassifier()\n",
    "gb_classifier.fit(X_train, y_train)\n",
    "\n",
    "\n",
    "feature_importances = gb_classifier.feature_importances_\n",
    "\n",
    "feature_importance_df = pd.DataFrame({'Feature': X_train.columns, 'Importance': feature_importances})\n",
    "\n",
    "\n",
    "feature_importance_df = feature_importance_df.sort_values(by='Importance', ascending=False)\n",
    "\n",
    "\n",
    "plt.figure(figsize=(10, 6))\n",
    "plt.bar(feature_importance_df['Feature'], feature_importance_df['Importance'])\n",
    "plt.xticks(rotation=45, ha='right')\n",
    "plt.xlabel('Features')\n",
    "plt.ylabel('Importance')\n",
    "plt.title('Feature Importance')\n",
    "plt.tight_layout()\n",
    "plt.show()"
   ]
  },
  {
   "cell_type": "code",
   "execution_count": null,
   "id": "d879b075",
   "metadata": {},
   "outputs": [],
   "source": []
  }
 ],
 "metadata": {
  "kernelspec": {
   "display_name": "Python 3 (ipykernel)",
   "language": "python",
   "name": "python3"
  },
  "language_info": {
   "codemirror_mode": {
    "name": "ipython",
    "version": 3
   },
   "file_extension": ".py",
   "mimetype": "text/x-python",
   "name": "python",
   "nbconvert_exporter": "python",
   "pygments_lexer": "ipython3",
   "version": "3.9.13"
  }
 },
 "nbformat": 4,
 "nbformat_minor": 5
}
